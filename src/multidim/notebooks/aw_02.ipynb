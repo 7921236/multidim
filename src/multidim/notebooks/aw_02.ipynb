{
 "cells": [
  {
   "cell_type": "markdown",
   "id": "cd0ecd6e",
   "metadata": {},
   "source": [
    "# Analiza Wielowymiarowa - Testy parametryczne i nieparametryczne - zajecia 2"
   ]
  },
  {
   "cell_type": "code",
   "execution_count": 1,
   "id": "da160e54-32fd-46ec-a7fe-6b7f34a4b33b",
   "metadata": {},
   "outputs": [],
   "source": [
    "from multidim.utils import resolve_stata\n",
    "\n",
    "stata_conf = resolve_stata(version = 17, stype = \"se\")\n",
    "STATA_PATH = stata_conf.path\n",
    "STATA_TYPE = stata_conf.type"
   ]
  },
  {
   "cell_type": "code",
   "execution_count": 2,
   "id": "69c5451f-58f6-47d7-8ff0-08a3455f6b52",
   "metadata": {
    "tags": []
   },
   "outputs": [
    {
     "name": "stdout",
     "output_type": "stream",
     "text": [
      "\n",
      "  ___  ____  ____  ____  ____ ®\n",
      " /__    /   ____/   /   ____/      17.0\n",
      "___/   /   /___/   /   /___/       SE—Standard Edition\n",
      "\n",
      " Statistics and Data Science       Copyright 1985-2021 StataCorp LLC\n",
      "                                   StataCorp\n",
      "                                   4905 Lakeway Drive\n",
      "                                   College Station, Texas 77845 USA\n",
      "                                   800-STATA-PC        https://www.stata.com\n",
      "                                   979-696-4600        stata@stata.com\n",
      "\n",
      "Stata license: Unlimited-user network, expiring  1 Nov 2022\n",
      "Serial number: 401709308728\n",
      "  Licensed to: Maciej Nasinski\n",
      "               University of Warsaw\n",
      "\n",
      "Notes:\n",
      "      1. Unicode is supported; see help unicode_advice.\n",
      "      2. Maximum number of variables is set to 5,000; see help set_maxvar.\n"
     ]
    }
   ],
   "source": [
    "# STATA\n",
    "import stata_setup\n",
    "stata_setup.config(STATA_PATH, STATA_TYPE)\n",
    "from pystata import stata"
   ]
  },
  {
   "cell_type": "code",
   "execution_count": 3,
   "id": "40d5b3fb",
   "metadata": {},
   "outputs": [],
   "source": [
    "import pandas as pd\n",
    "import scipy\n",
    "import numpy as np\n",
    "import scipy.stats as stats\n",
    "import sklearn\n",
    "from statsmodels.stats.proportion import proportions_ztest"
   ]
  },
  {
   "cell_type": "markdown",
   "id": "68ec11c3",
   "metadata": {},
   "source": [
    "### Uzycie staty w jupyterach"
   ]
  },
  {
   "cell_type": "markdown",
   "id": "7cd5ed6a",
   "metadata": {},
   "source": [
    "%stata dla wywolan jednoliniowych\n",
    "%%stata dla wywolan wieloliniowych"
   ]
  },
  {
   "cell_type": "markdown",
   "id": "00cf2f38",
   "metadata": {},
   "source": [
    "oba wywolania posiadaja dodatkowe argumenty ktore omowimy podczas zajec\n",
    "%%stata -d dane -eret myeret"
   ]
  },
  {
   "cell_type": "markdown",
   "id": "bea6c0fc",
   "metadata": {},
   "source": [
    "Obiekt stata z cala gama metod takich jak stata.run"
   ]
  },
  {
   "cell_type": "markdown",
   "id": "0768219c",
   "metadata": {},
   "source": [
    "### Podstawowe zbiory danych w STATA"
   ]
  },
  {
   "cell_type": "code",
   "execution_count": 4,
   "id": "83732135",
   "metadata": {},
   "outputs": [
    {
     "name": "stdout",
     "output_type": "stream",
     "text": [
      "\n",
      "Example datasets installed with Stata\n",
      "-------------------------------------------------------------------------------\n",
      "    The datasets listed here are installed with Stata.  You can also see a\n",
      "    complete list of the datasets used in the Stata documentation that are\n",
      "    available via the Internet.  Each manual title is listed as a link that\n",
      "    will take you to the list of datasets for that manual.\n",
      "-------------------------------------------------------------------------------\n",
      "\n",
      "        auto.dta            use | describe\n",
      "        auto2.dta           use | describe\n",
      "        autornd.dta         use | describe\n",
      "        bplong.dta          use | describe\n",
      "        bpwide.dta          use | describe\n",
      "        cancer.dta          use | describe\n",
      "        census.dta          use | describe\n",
      "        citytemp.dta        use | describe\n",
      "        citytemp4.dta       use | describe\n",
      "        educ99gdp.dta       use | describe\n",
      "        gnp96.dta           use | describe\n",
      "        lifeexp.dta         use | describe\n",
      "        network1.dta        use | describe\n",
      "        network1a.dta       use | describe\n",
      "        nlsw88.dta          use | describe\n",
      "        nlswide1.dta        use | describe\n",
      "        pop2000.dta         use | describe\n",
      "        sandstone.dta       use | describe\n",
      "        sp500.dta           use | describe\n",
      "        surface.dta         use | describe\n",
      "        tsline1.dta         use | describe\n",
      "        tsline2.dta         use | describe\n",
      "        uslifeexp.dta       use | describe\n",
      "        uslifeexp2.dta      use | describe\n",
      "        voter.dta           use | describe\n",
      "        xtline1.dta         use | describe\n",
      "\n",
      "-------------------------------------------------------------------------------\n",
      "    StataCorp gratefully acknowledges that some datasets are proprietary and\n",
      "    have been used in our printed documentation with the express permission\n",
      "    of the copyright holders. If any copyright holder believes that by making\n",
      "    these datasets available to the public, StataCorp is in violation of the\n",
      "    letter or spirit of any such agreement, please contact\n",
      "    tech-support@stata.com.\n",
      "-------------------------------------------------------------------------------\n"
     ]
    }
   ],
   "source": [
    "%stata help dta_examples"
   ]
  },
  {
   "cell_type": "markdown",
   "id": "411ee8f6",
   "metadata": {},
   "source": [
    "### Wczytywanie danych danych"
   ]
  },
  {
   "cell_type": "code",
   "execution_count": 19,
   "id": "4702eddc",
   "metadata": {},
   "outputs": [
    {
     "name": "stderr",
     "output_type": "stream",
     "text": [
      "Exception in thread Stata:\n",
      "Traceback (most recent call last):\n",
      "  File \"/opt/homebrew/Cellar/python@3.10/3.10.6_2/Frameworks/Python.framework/Versions/3.10/lib/python3.10/threading.py\", line 1016, in _bootstrap_inner\n",
      "    self.run()\n",
      "  File \"/Applications/Stata/utilities/pystata/core/stout.py\", line 169, in run\n",
      "    raise SystemError(output)\n",
      "SystemError: file \"../data/samochody.dta\" not found\n",
      "r(601);\n",
      "\n"
     ]
    }
   ],
   "source": [
    "%stata sysuse ../data/samochody.dta, clear"
   ]
  },
  {
   "cell_type": "code",
   "execution_count": 6,
   "id": "38c28819",
   "metadata": {},
   "outputs": [],
   "source": [
    "from multidim.datasets import load_auto\n",
    "auto = load_auto()"
   ]
  },
  {
   "cell_type": "markdown",
   "id": "cce47042",
   "metadata": {},
   "source": []
  },
  {
   "cell_type": "code",
   "execution_count": 27,
   "id": "c2f11c4b",
   "metadata": {},
   "outputs": [
    {
     "data": {
      "text/html": [
       "<div>\n",
       "<style scoped>\n",
       "    .dataframe tbody tr th:only-of-type {\n",
       "        vertical-align: middle;\n",
       "    }\n",
       "\n",
       "    .dataframe tbody tr th {\n",
       "        vertical-align: top;\n",
       "    }\n",
       "\n",
       "    .dataframe thead th {\n",
       "        text-align: right;\n",
       "    }\n",
       "</style>\n",
       "<table border=\"1\" class=\"dataframe\">\n",
       "  <thead>\n",
       "    <tr style=\"text-align: right;\">\n",
       "      <th></th>\n",
       "      <th>length</th>\n",
       "      <th>breadth</th>\n",
       "      <th>height</th>\n",
       "      <th>upper</th>\n",
       "      <th>face</th>\n",
       "    </tr>\n",
       "  </thead>\n",
       "  <tbody>\n",
       "    <tr>\n",
       "      <th>0</th>\n",
       "      <td>190.5</td>\n",
       "      <td>152.5</td>\n",
       "      <td>145.0</td>\n",
       "      <td>73.5</td>\n",
       "      <td>136.5</td>\n",
       "    </tr>\n",
       "    <tr>\n",
       "      <th>1</th>\n",
       "      <td>172.5</td>\n",
       "      <td>132.0</td>\n",
       "      <td>125.5</td>\n",
       "      <td>63.0</td>\n",
       "      <td>121.0</td>\n",
       "    </tr>\n",
       "    <tr>\n",
       "      <th>2</th>\n",
       "      <td>167.0</td>\n",
       "      <td>130.0</td>\n",
       "      <td>125.5</td>\n",
       "      <td>69.5</td>\n",
       "      <td>119.5</td>\n",
       "    </tr>\n",
       "    <tr>\n",
       "      <th>3</th>\n",
       "      <td>169.5</td>\n",
       "      <td>150.5</td>\n",
       "      <td>133.5</td>\n",
       "      <td>64.5</td>\n",
       "      <td>128.0</td>\n",
       "    </tr>\n",
       "    <tr>\n",
       "      <th>4</th>\n",
       "      <td>175.0</td>\n",
       "      <td>138.5</td>\n",
       "      <td>126.0</td>\n",
       "      <td>77.5</td>\n",
       "      <td>135.5</td>\n",
       "    </tr>\n",
       "    <tr>\n",
       "      <th>5</th>\n",
       "      <td>177.5</td>\n",
       "      <td>142.5</td>\n",
       "      <td>142.5</td>\n",
       "      <td>71.5</td>\n",
       "      <td>131.0</td>\n",
       "    </tr>\n",
       "    <tr>\n",
       "      <th>6</th>\n",
       "      <td>179.5</td>\n",
       "      <td>142.5</td>\n",
       "      <td>127.5</td>\n",
       "      <td>70.5</td>\n",
       "      <td>134.5</td>\n",
       "    </tr>\n",
       "    <tr>\n",
       "      <th>7</th>\n",
       "      <td>179.5</td>\n",
       "      <td>138.0</td>\n",
       "      <td>133.5</td>\n",
       "      <td>73.5</td>\n",
       "      <td>132.5</td>\n",
       "    </tr>\n",
       "    <tr>\n",
       "      <th>8</th>\n",
       "      <td>173.5</td>\n",
       "      <td>135.5</td>\n",
       "      <td>130.5</td>\n",
       "      <td>70.0</td>\n",
       "      <td>133.5</td>\n",
       "    </tr>\n",
       "    <tr>\n",
       "      <th>9</th>\n",
       "      <td>162.5</td>\n",
       "      <td>139.0</td>\n",
       "      <td>131.0</td>\n",
       "      <td>62.0</td>\n",
       "      <td>126.0</td>\n",
       "    </tr>\n",
       "    <tr>\n",
       "      <th>10</th>\n",
       "      <td>178.5</td>\n",
       "      <td>135.0</td>\n",
       "      <td>136.0</td>\n",
       "      <td>71.0</td>\n",
       "      <td>124.0</td>\n",
       "    </tr>\n",
       "    <tr>\n",
       "      <th>11</th>\n",
       "      <td>171.5</td>\n",
       "      <td>148.5</td>\n",
       "      <td>132.5</td>\n",
       "      <td>65.0</td>\n",
       "      <td>146.5</td>\n",
       "    </tr>\n",
       "    <tr>\n",
       "      <th>12</th>\n",
       "      <td>180.5</td>\n",
       "      <td>139.0</td>\n",
       "      <td>132.0</td>\n",
       "      <td>74.5</td>\n",
       "      <td>134.5</td>\n",
       "    </tr>\n",
       "    <tr>\n",
       "      <th>13</th>\n",
       "      <td>183.0</td>\n",
       "      <td>149.0</td>\n",
       "      <td>121.5</td>\n",
       "      <td>76.5</td>\n",
       "      <td>142.0</td>\n",
       "    </tr>\n",
       "    <tr>\n",
       "      <th>14</th>\n",
       "      <td>169.5</td>\n",
       "      <td>130.0</td>\n",
       "      <td>131.0</td>\n",
       "      <td>68.0</td>\n",
       "      <td>119.0</td>\n",
       "    </tr>\n",
       "    <tr>\n",
       "      <th>15</th>\n",
       "      <td>172.0</td>\n",
       "      <td>140.0</td>\n",
       "      <td>136.0</td>\n",
       "      <td>70.5</td>\n",
       "      <td>133.5</td>\n",
       "    </tr>\n",
       "    <tr>\n",
       "      <th>16</th>\n",
       "      <td>170.0</td>\n",
       "      <td>126.5</td>\n",
       "      <td>134.5</td>\n",
       "      <td>66.0</td>\n",
       "      <td>118.5</td>\n",
       "    </tr>\n",
       "    <tr>\n",
       "      <th>17</th>\n",
       "      <td>182.5</td>\n",
       "      <td>136.0</td>\n",
       "      <td>138.5</td>\n",
       "      <td>76.0</td>\n",
       "      <td>134.0</td>\n",
       "    </tr>\n",
       "    <tr>\n",
       "      <th>18</th>\n",
       "      <td>179.5</td>\n",
       "      <td>135.0</td>\n",
       "      <td>128.5</td>\n",
       "      <td>74.0</td>\n",
       "      <td>132.0</td>\n",
       "    </tr>\n",
       "    <tr>\n",
       "      <th>19</th>\n",
       "      <td>191.0</td>\n",
       "      <td>140.5</td>\n",
       "      <td>140.5</td>\n",
       "      <td>72.5</td>\n",
       "      <td>131.5</td>\n",
       "    </tr>\n",
       "    <tr>\n",
       "      <th>20</th>\n",
       "      <td>184.5</td>\n",
       "      <td>141.5</td>\n",
       "      <td>134.5</td>\n",
       "      <td>76.5</td>\n",
       "      <td>141.5</td>\n",
       "    </tr>\n",
       "    <tr>\n",
       "      <th>21</th>\n",
       "      <td>181.0</td>\n",
       "      <td>142.0</td>\n",
       "      <td>132.5</td>\n",
       "      <td>79.0</td>\n",
       "      <td>136.5</td>\n",
       "    </tr>\n",
       "    <tr>\n",
       "      <th>22</th>\n",
       "      <td>173.5</td>\n",
       "      <td>136.5</td>\n",
       "      <td>126.0</td>\n",
       "      <td>71.5</td>\n",
       "      <td>136.5</td>\n",
       "    </tr>\n",
       "    <tr>\n",
       "      <th>23</th>\n",
       "      <td>188.5</td>\n",
       "      <td>130.0</td>\n",
       "      <td>143.0</td>\n",
       "      <td>79.5</td>\n",
       "      <td>136.0</td>\n",
       "    </tr>\n",
       "    <tr>\n",
       "      <th>24</th>\n",
       "      <td>175.0</td>\n",
       "      <td>153.0</td>\n",
       "      <td>130.0</td>\n",
       "      <td>76.5</td>\n",
       "      <td>142.0</td>\n",
       "    </tr>\n",
       "    <tr>\n",
       "      <th>25</th>\n",
       "      <td>196.0</td>\n",
       "      <td>142.5</td>\n",
       "      <td>123.5</td>\n",
       "      <td>76.0</td>\n",
       "      <td>134.0</td>\n",
       "    </tr>\n",
       "    <tr>\n",
       "      <th>26</th>\n",
       "      <td>200.0</td>\n",
       "      <td>139.5</td>\n",
       "      <td>143.5</td>\n",
       "      <td>82.5</td>\n",
       "      <td>146.0</td>\n",
       "    </tr>\n",
       "    <tr>\n",
       "      <th>27</th>\n",
       "      <td>185.0</td>\n",
       "      <td>134.5</td>\n",
       "      <td>140.0</td>\n",
       "      <td>81.5</td>\n",
       "      <td>137.0</td>\n",
       "    </tr>\n",
       "    <tr>\n",
       "      <th>28</th>\n",
       "      <td>174.5</td>\n",
       "      <td>143.5</td>\n",
       "      <td>132.5</td>\n",
       "      <td>74.0</td>\n",
       "      <td>136.5</td>\n",
       "    </tr>\n",
       "    <tr>\n",
       "      <th>29</th>\n",
       "      <td>195.5</td>\n",
       "      <td>144.0</td>\n",
       "      <td>138.5</td>\n",
       "      <td>78.5</td>\n",
       "      <td>144.0</td>\n",
       "    </tr>\n",
       "    <tr>\n",
       "      <th>30</th>\n",
       "      <td>197.0</td>\n",
       "      <td>131.5</td>\n",
       "      <td>135.0</td>\n",
       "      <td>80.5</td>\n",
       "      <td>139.0</td>\n",
       "    </tr>\n",
       "    <tr>\n",
       "      <th>31</th>\n",
       "      <td>182.5</td>\n",
       "      <td>131.0</td>\n",
       "      <td>135.0</td>\n",
       "      <td>68.5</td>\n",
       "      <td>136.0</td>\n",
       "    </tr>\n",
       "  </tbody>\n",
       "</table>\n",
       "</div>"
      ],
      "text/plain": [
       "    length  breadth  height  upper   face\n",
       "0    190.5    152.5   145.0   73.5  136.5\n",
       "1    172.5    132.0   125.5   63.0  121.0\n",
       "2    167.0    130.0   125.5   69.5  119.5\n",
       "3    169.5    150.5   133.5   64.5  128.0\n",
       "4    175.0    138.5   126.0   77.5  135.5\n",
       "5    177.5    142.5   142.5   71.5  131.0\n",
       "6    179.5    142.5   127.5   70.5  134.5\n",
       "7    179.5    138.0   133.5   73.5  132.5\n",
       "8    173.5    135.5   130.5   70.0  133.5\n",
       "9    162.5    139.0   131.0   62.0  126.0\n",
       "10   178.5    135.0   136.0   71.0  124.0\n",
       "11   171.5    148.5   132.5   65.0  146.5\n",
       "12   180.5    139.0   132.0   74.5  134.5\n",
       "13   183.0    149.0   121.5   76.5  142.0\n",
       "14   169.5    130.0   131.0   68.0  119.0\n",
       "15   172.0    140.0   136.0   70.5  133.5\n",
       "16   170.0    126.5   134.5   66.0  118.5\n",
       "17   182.5    136.0   138.5   76.0  134.0\n",
       "18   179.5    135.0   128.5   74.0  132.0\n",
       "19   191.0    140.5   140.5   72.5  131.5\n",
       "20   184.5    141.5   134.5   76.5  141.5\n",
       "21   181.0    142.0   132.5   79.0  136.5\n",
       "22   173.5    136.5   126.0   71.5  136.5\n",
       "23   188.5    130.0   143.0   79.5  136.0\n",
       "24   175.0    153.0   130.0   76.5  142.0\n",
       "25   196.0    142.5   123.5   76.0  134.0\n",
       "26   200.0    139.5   143.5   82.5  146.0\n",
       "27   185.0    134.5   140.0   81.5  137.0\n",
       "28   174.5    143.5   132.5   74.0  136.5\n",
       "29   195.5    144.0   138.5   78.5  144.0\n",
       "30   197.0    131.5   135.0   80.5  139.0\n",
       "31   182.5    131.0   135.0   68.5  136.0"
      ]
     },
     "execution_count": 27,
     "metadata": {},
     "output_type": "execute_result"
    }
   ],
   "source": [
    "import pandas\n",
    "pandas.read_stata(\"../data/tibetan.dta\")"
   ]
  },
  {
   "cell_type": "code",
   "execution_count": 7,
   "id": "7f6efec5",
   "metadata": {},
   "outputs": [
    {
     "name": "stdout",
     "output_type": "stream",
     "text": [
      "\u001b[0;31mSignature:\u001b[0m\n",
      "\u001b[0mstata\u001b[0m\u001b[0;34m.\u001b[0m\u001b[0mpdataframe_from_data\u001b[0m\u001b[0;34m(\u001b[0m\u001b[0;34m\u001b[0m\n",
      "\u001b[0;34m\u001b[0m    \u001b[0mvar\u001b[0m\u001b[0;34m=\u001b[0m\u001b[0;32mNone\u001b[0m\u001b[0;34m,\u001b[0m\u001b[0;34m\u001b[0m\n",
      "\u001b[0;34m\u001b[0m    \u001b[0mobs\u001b[0m\u001b[0;34m=\u001b[0m\u001b[0;32mNone\u001b[0m\u001b[0;34m,\u001b[0m\u001b[0;34m\u001b[0m\n",
      "\u001b[0;34m\u001b[0m    \u001b[0mselectvar\u001b[0m\u001b[0;34m=\u001b[0m\u001b[0;32mNone\u001b[0m\u001b[0;34m,\u001b[0m\u001b[0;34m\u001b[0m\n",
      "\u001b[0;34m\u001b[0m    \u001b[0mvaluelabel\u001b[0m\u001b[0;34m=\u001b[0m\u001b[0;32mFalse\u001b[0m\u001b[0;34m,\u001b[0m\u001b[0;34m\u001b[0m\n",
      "\u001b[0;34m\u001b[0m    \u001b[0mmissingval\u001b[0m\u001b[0;34m=\u001b[0m\u001b[0m_DefaultMissing\u001b[0m\u001b[0;34m(\u001b[0m\u001b[0;34m)\u001b[0m\u001b[0;34m,\u001b[0m\u001b[0;34m\u001b[0m\n",
      "\u001b[0;34m\u001b[0m\u001b[0;34m)\u001b[0m\u001b[0;34m\u001b[0m\u001b[0;34m\u001b[0m\u001b[0m\n",
      "\u001b[0;31mDocstring:\u001b[0m\n",
      "Export values from the current Stata dataset into a pandas DataFrame.\n",
      "\n",
      "Parameters\n",
      "----------\n",
      "var : int, str, or list-like, optional\n",
      "    Variables to access. It can be specified as a single variable\n",
      "    index or name, or an iterable of variable indices or names. \n",
      "    If `var` is not specified, all the variables are specified.\n",
      "\n",
      "obs : int or list-like, optional\n",
      "    Observations to access. It can be specified as a single \n",
      "    observation index or an iterable of observation indices. \n",
      "    If `obs` is not specified, all the observations are specified.\n",
      "\n",
      "selectvar : int or str, optional\n",
      "    Observations for which `selectvar!=0` will be selected. If `selectvar`\n",
      "    is an integer, it is interpreted as a variable index. If `selectvar` \n",
      "    is a string, it should contain the name of a Stata variable. \n",
      "    Specifying `selectvar` as \"\" has the same result as not \n",
      "    specifying `selectvar`, which means no observations are excluded. \n",
      "    Specifying `selectvar` as -1 means that observations with missing \n",
      "    values for the variables specified in `var` are to be excluded.\n",
      "\n",
      "valuelabel : bool, optional\n",
      "    Use the value label when available. Default is False.\n",
      "\n",
      "missingval : :ref:`_DefaultMissing <ref-defaultmissing>`, `optional`\n",
      "    If `missingval` is specified, all the missing values in the returned \n",
      "    list are replaced by this value. If it is not specified, the numeric \n",
      "    value of the corresponding missing value in Stata is returned.\n",
      "\n",
      "Returns\n",
      "-------\n",
      "pandas DataFrame\n",
      "    A pandas DataFrame containing the values from the dataset in memory.  \n",
      "\n",
      "Raises\n",
      "------\n",
      "ValueError\n",
      "    This error can be raised for three possible reasons. One is if any of \n",
      "    the variable indices or names specified in `var` are out of \n",
      "    `range <https://www.stata.com/python/api17/Data.html#ref-datarange>`__ \n",
      "    or not found. Another is if any of the observation indices specified \n",
      "    in `obs` are out of range. Last, it may be raised if `selectvar` is out of \n",
      "    range or not found.\n",
      "\u001b[0;31mFile:\u001b[0m      /Applications/Stata/utilities/pystata/stata.py\n",
      "\u001b[0;31mType:\u001b[0m      function\n"
     ]
    }
   ],
   "source": [
    "?stata.pdataframe_from_data\n",
    "# auto = stata.pdataframe_from_data(missingval = np.NaN, valuelabel = True)\n",
    "# i spowrotem\n",
    "# stata.pdataframe_to_data(auto)"
   ]
  },
  {
   "cell_type": "markdown",
   "id": "c5d164db",
   "metadata": {},
   "source": [
    "### Opis zawartosci zbioru danych"
   ]
  },
  {
   "cell_type": "code",
   "execution_count": 8,
   "id": "f0c7572e",
   "metadata": {},
   "outputs": [
    {
     "name": "stdout",
     "output_type": "stream",
     "text": [
      "\n",
      "Contains data from /Applications/Stata/ado/base/a/auto.dta\n",
      " Observations:            74                  1978 automobile data\n",
      "    Variables:            12                  13 Apr 2020 17:45\n",
      "                                              (_dta has notes)\n",
      "-------------------------------------------------------------------------------\n",
      "Variable      Storage   Display    Value\n",
      "    name         type    format    label      Variable label\n",
      "-------------------------------------------------------------------------------\n",
      "make            str18   %-18s                 Make and model\n",
      "price           int     %8.0gc                Price\n",
      "mpg             int     %8.0g                 Mileage (mpg)\n",
      "rep78           int     %8.0g                 Repair record 1978\n",
      "headroom        float   %6.1f                 Headroom (in.)\n",
      "trunk           int     %8.0g                 Trunk space (cu. ft.)\n",
      "weight          int     %8.0gc                Weight (lbs.)\n",
      "length          int     %8.0g                 Length (in.)\n",
      "turn            int     %8.0g                 Turn circle (ft.)\n",
      "displacement    int     %8.0g                 Displacement (cu. in.)\n",
      "gear_ratio      float   %6.2f                 Gear ratio\n",
      "foreign         byte    %8.0g      origin     Car origin\n",
      "-------------------------------------------------------------------------------\n",
      "Sorted by: foreign\n"
     ]
    }
   ],
   "source": [
    "%stata describe"
   ]
  },
  {
   "cell_type": "markdown",
   "id": "26fb432c",
   "metadata": {},
   "source": [
    "### Ksiazka kodowa zbioru"
   ]
  },
  {
   "cell_type": "markdown",
   "id": "8c2ee695",
   "metadata": {},
   "source": [
    "Polecenie codebook pozwala nam zbadac charakterystyki per zmienna."
   ]
  },
  {
   "cell_type": "code",
   "execution_count": 9,
   "id": "14bb1119",
   "metadata": {},
   "outputs": [
    {
     "name": "stdout",
     "output_type": "stream",
     "text": [
      "\n",
      ". /* help codebook */\n",
      ". /* codebook */\n",
      ". codebook make\n",
      "\n",
      "-------------------------------------------------------------------------------\n",
      "make                                                             Make and model\n",
      "-------------------------------------------------------------------------------\n",
      "\n",
      "                  Type: String (str18), but longest is str17\n",
      "\n",
      "         Unique values: 74                        Missing \"\": 0/74\n",
      "\n",
      "              Examples: \"Cad. Deville\"\n",
      "                        \"Dodge Magnum\"\n",
      "                        \"Merc. XR-7\"\n",
      "                        \"Pont. Catalina\"\n",
      "\n",
      "               Warning: Variable has embedded blanks.\n",
      "\n",
      ". \n"
     ]
    }
   ],
   "source": [
    "%%stata\n",
    "/* help codebook */\n",
    "/* codebook */\n",
    "codebook make"
   ]
  },
  {
   "cell_type": "code",
   "execution_count": 10,
   "id": "cc2e4b4e",
   "metadata": {},
   "outputs": [
    {
     "data": {
      "text/plain": [
       "make              object\n",
       "price              int16\n",
       "mpg                int16\n",
       "rep78            float64\n",
       "headroom         float32\n",
       "trunk              int16\n",
       "weight             int16\n",
       "length             int16\n",
       "turn               int16\n",
       "displacement       int16\n",
       "gear_ratio       float32\n",
       "foreign         category\n",
       "dtype: object"
      ]
     },
     "execution_count": 10,
     "metadata": {},
     "output_type": "execute_result"
    }
   ],
   "source": [
    "auto.dtypes"
   ]
  },
  {
   "cell_type": "markdown",
   "id": "1fe61496",
   "metadata": {},
   "source": [
    "### Wyswietlenie danych"
   ]
  },
  {
   "cell_type": "markdown",
   "id": "c95ff02f",
   "metadata": {},
   "source": [
    "Polecenie list bez dodatkowych zmiennych powinno byc wywolywane na mniejszych zbiorach.  \n",
    "W przypadku wiekszych zbiorow przydatne bedzie uzycie dodatkowych argumentow zawezajacych wyszukanie.\n",
    "W tym przypadku zawezimy wyszukanie samochodow do tych najciezszych."
   ]
  },
  {
   "cell_type": "code",
   "execution_count": 11,
   "id": "d2a5d67a",
   "metadata": {},
   "outputs": [
    {
     "name": "stdout",
     "output_type": "stream",
     "text": [
      "\n",
      ". /* help list */\n",
      ". /* list, table */\n",
      ". list if weight > 4500\n",
      "\n",
      "     +----------------------------------------------------------------------+\n",
      " 26. | make              |  price | mpg | rep78 | headroom | trunk | weight |\n",
      "     | Linc. Continental | 11,497 |  12 |     3 |      3.5 |    22 |  4,840 |\n",
      "     |----------------------------------------------------------------------|\n",
      "     |   length   |   turn   |   displa~t   |   gear_r~o    |    foreign    |\n",
      "     |      233   |     51   |        400   |       2.47    |   Domestic    |\n",
      "     +----------------------------------------------------------------------+\n",
      "\n",
      "     +----------------------------------------------------------------------+\n",
      " 27. | make              |  price | mpg | rep78 | headroom | trunk | weight |\n",
      "     | Linc. Mark V      | 13,594 |  12 |     3 |      2.5 |    18 |  4,720 |\n",
      "     |----------------------------------------------------------------------|\n",
      "     |   length   |   turn   |   displa~t   |   gear_r~o    |    foreign    |\n",
      "     |      230   |     48   |        400   |       2.47    |   Domestic    |\n",
      "     +----------------------------------------------------------------------+\n",
      "\n",
      ". \n"
     ]
    }
   ],
   "source": [
    "%%stata\n",
    "/* help list */\n",
    "/* list, table */\n",
    "list if weight > 4500"
   ]
  },
  {
   "cell_type": "code",
   "execution_count": 12,
   "id": "251e3ee8",
   "metadata": {},
   "outputs": [
    {
     "data": {
      "text/html": [
       "<div>\n",
       "<style scoped>\n",
       "    .dataframe tbody tr th:only-of-type {\n",
       "        vertical-align: middle;\n",
       "    }\n",
       "\n",
       "    .dataframe tbody tr th {\n",
       "        vertical-align: top;\n",
       "    }\n",
       "\n",
       "    .dataframe thead th {\n",
       "        text-align: right;\n",
       "    }\n",
       "</style>\n",
       "<table border=\"1\" class=\"dataframe\">\n",
       "  <thead>\n",
       "    <tr style=\"text-align: right;\">\n",
       "      <th></th>\n",
       "      <th>make</th>\n",
       "      <th>price</th>\n",
       "      <th>mpg</th>\n",
       "      <th>rep78</th>\n",
       "      <th>headroom</th>\n",
       "      <th>trunk</th>\n",
       "      <th>weight</th>\n",
       "      <th>length</th>\n",
       "      <th>turn</th>\n",
       "      <th>displacement</th>\n",
       "      <th>gear_ratio</th>\n",
       "      <th>foreign</th>\n",
       "    </tr>\n",
       "  </thead>\n",
       "  <tbody>\n",
       "    <tr>\n",
       "      <th>25</th>\n",
       "      <td>Linc. Continental</td>\n",
       "      <td>11497</td>\n",
       "      <td>12</td>\n",
       "      <td>3.0</td>\n",
       "      <td>3.5</td>\n",
       "      <td>22</td>\n",
       "      <td>4840</td>\n",
       "      <td>233</td>\n",
       "      <td>51</td>\n",
       "      <td>400</td>\n",
       "      <td>2.47</td>\n",
       "      <td>Domestic</td>\n",
       "    </tr>\n",
       "    <tr>\n",
       "      <th>26</th>\n",
       "      <td>Linc. Mark V</td>\n",
       "      <td>13594</td>\n",
       "      <td>12</td>\n",
       "      <td>3.0</td>\n",
       "      <td>2.5</td>\n",
       "      <td>18</td>\n",
       "      <td>4720</td>\n",
       "      <td>230</td>\n",
       "      <td>48</td>\n",
       "      <td>400</td>\n",
       "      <td>2.47</td>\n",
       "      <td>Domestic</td>\n",
       "    </tr>\n",
       "  </tbody>\n",
       "</table>\n",
       "</div>"
      ],
      "text/plain": [
       "                 make  price  mpg  rep78  headroom  trunk  weight  length  \\\n",
       "25  Linc. Continental  11497   12    3.0       3.5     22    4840     233   \n",
       "26       Linc. Mark V  13594   12    3.0       2.5     18    4720     230   \n",
       "\n",
       "    turn  displacement  gear_ratio   foreign  \n",
       "25    51           400        2.47  Domestic  \n",
       "26    48           400        2.47  Domestic  "
      ]
     },
     "execution_count": 12,
     "metadata": {},
     "output_type": "execute_result"
    }
   ],
   "source": [
    "auto.query(\"weight > 4500\")"
   ]
  },
  {
   "cell_type": "markdown",
   "id": "bc0bed40",
   "metadata": {},
   "source": [
    "Szybki przeglad zmiennych"
   ]
  },
  {
   "cell_type": "code",
   "execution_count": 13,
   "id": "f9ccfc2e",
   "metadata": {},
   "outputs": [
    {
     "name": "stdout",
     "output_type": "stream",
     "text": [
      "\n",
      ". /* help inspect */\n",
      ". /* inspect */\n",
      ". inspect weight\n",
      "\n",
      "weight:  Weight (lbs.)                          Number of observations\n",
      "----------------------                 ---------------------------------------\n",
      "                                             Total      Integers   Nonintegers\n",
      "|  #       #                 Negative            -             -             -\n",
      "|  #       #                 Zero                -             -             -\n",
      "|  #   #   #   #             Positive           74            74             -\n",
      "|  #   #   #   #                       -----------   -----------   -----------\n",
      "|  #   #   #   #             Total              74            74             -\n",
      "|  #   #   #   #   #         Missing             -\n",
      "+----------------------                -----------\n",
      "1760               4840                         74\n",
      "  (64 unique values)\n",
      "\n",
      ". \n"
     ]
    }
   ],
   "source": [
    "%%stata\n",
    "/* help inspect */\n",
    "/* inspect */\n",
    "inspect weight"
   ]
  },
  {
   "cell_type": "code",
   "execution_count": 14,
   "id": "128f134a",
   "metadata": {},
   "outputs": [
    {
     "name": "stdout",
     "output_type": "stream",
     "text": [
      "\n",
      ". /* Statystyki opisowe */\n",
      ". summarize\n",
      "\n",
      "    Variable |        Obs        Mean    Std. dev.       Min        Max\n",
      "-------------+---------------------------------------------------------\n",
      "        make |          0\n",
      "       price |         74    6165.257    2949.496       3291      15906\n",
      "         mpg |         74     21.2973    5.785503         12         41\n",
      "       rep78 |         69    3.405797    .9899323          1          5\n",
      "    headroom |         74    2.993243    .8459948        1.5          5\n",
      "-------------+---------------------------------------------------------\n",
      "       trunk |         74    13.75676    4.277404          5         23\n",
      "      weight |         74    3019.459    777.1936       1760       4840\n",
      "      length |         74    187.9324    22.26634        142        233\n",
      "        turn |         74    39.64865    4.399354         31         51\n",
      "displacement |         74    197.2973    91.83722         79        425\n",
      "-------------+---------------------------------------------------------\n",
      "  gear_ratio |         74    3.014865    .4562871       2.19       3.89\n",
      "     foreign |         74    .2972973    .4601885          0          1\n",
      "\n",
      ". \n"
     ]
    }
   ],
   "source": [
    "%%stata\n",
    "/* Statystyki opisowe */\n",
    "summarize"
   ]
  },
  {
   "cell_type": "code",
   "execution_count": 15,
   "id": "079f1dbf",
   "metadata": {},
   "outputs": [
    {
     "data": {
      "text/html": [
       "<div>\n",
       "<style scoped>\n",
       "    .dataframe tbody tr th:only-of-type {\n",
       "        vertical-align: middle;\n",
       "    }\n",
       "\n",
       "    .dataframe tbody tr th {\n",
       "        vertical-align: top;\n",
       "    }\n",
       "\n",
       "    .dataframe thead th {\n",
       "        text-align: right;\n",
       "    }\n",
       "</style>\n",
       "<table border=\"1\" class=\"dataframe\">\n",
       "  <thead>\n",
       "    <tr style=\"text-align: right;\">\n",
       "      <th></th>\n",
       "      <th>price</th>\n",
       "      <th>mpg</th>\n",
       "      <th>rep78</th>\n",
       "      <th>headroom</th>\n",
       "      <th>trunk</th>\n",
       "      <th>weight</th>\n",
       "      <th>length</th>\n",
       "      <th>turn</th>\n",
       "      <th>displacement</th>\n",
       "      <th>gear_ratio</th>\n",
       "    </tr>\n",
       "  </thead>\n",
       "  <tbody>\n",
       "    <tr>\n",
       "      <th>count</th>\n",
       "      <td>74.000000</td>\n",
       "      <td>74.000000</td>\n",
       "      <td>69.000000</td>\n",
       "      <td>74.000000</td>\n",
       "      <td>74.000000</td>\n",
       "      <td>74.000000</td>\n",
       "      <td>74.000000</td>\n",
       "      <td>74.000000</td>\n",
       "      <td>74.000000</td>\n",
       "      <td>74.000000</td>\n",
       "    </tr>\n",
       "    <tr>\n",
       "      <th>mean</th>\n",
       "      <td>6165.256757</td>\n",
       "      <td>21.297297</td>\n",
       "      <td>3.405797</td>\n",
       "      <td>2.993243</td>\n",
       "      <td>13.756757</td>\n",
       "      <td>3019.459459</td>\n",
       "      <td>187.932432</td>\n",
       "      <td>39.648649</td>\n",
       "      <td>197.297297</td>\n",
       "      <td>3.014865</td>\n",
       "    </tr>\n",
       "    <tr>\n",
       "      <th>std</th>\n",
       "      <td>2949.495885</td>\n",
       "      <td>5.785503</td>\n",
       "      <td>0.989932</td>\n",
       "      <td>0.845995</td>\n",
       "      <td>4.277404</td>\n",
       "      <td>777.193567</td>\n",
       "      <td>22.266340</td>\n",
       "      <td>4.399354</td>\n",
       "      <td>91.837219</td>\n",
       "      <td>0.456287</td>\n",
       "    </tr>\n",
       "    <tr>\n",
       "      <th>min</th>\n",
       "      <td>3291.000000</td>\n",
       "      <td>12.000000</td>\n",
       "      <td>1.000000</td>\n",
       "      <td>1.500000</td>\n",
       "      <td>5.000000</td>\n",
       "      <td>1760.000000</td>\n",
       "      <td>142.000000</td>\n",
       "      <td>31.000000</td>\n",
       "      <td>79.000000</td>\n",
       "      <td>2.190000</td>\n",
       "    </tr>\n",
       "    <tr>\n",
       "      <th>25%</th>\n",
       "      <td>4220.250000</td>\n",
       "      <td>18.000000</td>\n",
       "      <td>3.000000</td>\n",
       "      <td>2.500000</td>\n",
       "      <td>10.250000</td>\n",
       "      <td>2250.000000</td>\n",
       "      <td>170.000000</td>\n",
       "      <td>36.000000</td>\n",
       "      <td>119.000000</td>\n",
       "      <td>2.730000</td>\n",
       "    </tr>\n",
       "    <tr>\n",
       "      <th>50%</th>\n",
       "      <td>5006.500000</td>\n",
       "      <td>20.000000</td>\n",
       "      <td>3.000000</td>\n",
       "      <td>3.000000</td>\n",
       "      <td>14.000000</td>\n",
       "      <td>3190.000000</td>\n",
       "      <td>192.500000</td>\n",
       "      <td>40.000000</td>\n",
       "      <td>196.000000</td>\n",
       "      <td>2.955000</td>\n",
       "    </tr>\n",
       "    <tr>\n",
       "      <th>75%</th>\n",
       "      <td>6332.250000</td>\n",
       "      <td>24.750000</td>\n",
       "      <td>4.000000</td>\n",
       "      <td>3.500000</td>\n",
       "      <td>16.750000</td>\n",
       "      <td>3600.000000</td>\n",
       "      <td>203.750000</td>\n",
       "      <td>43.000000</td>\n",
       "      <td>245.250000</td>\n",
       "      <td>3.352500</td>\n",
       "    </tr>\n",
       "    <tr>\n",
       "      <th>max</th>\n",
       "      <td>15906.000000</td>\n",
       "      <td>41.000000</td>\n",
       "      <td>5.000000</td>\n",
       "      <td>5.000000</td>\n",
       "      <td>23.000000</td>\n",
       "      <td>4840.000000</td>\n",
       "      <td>233.000000</td>\n",
       "      <td>51.000000</td>\n",
       "      <td>425.000000</td>\n",
       "      <td>3.890000</td>\n",
       "    </tr>\n",
       "  </tbody>\n",
       "</table>\n",
       "</div>"
      ],
      "text/plain": [
       "              price        mpg      rep78   headroom      trunk       weight  \\\n",
       "count     74.000000  74.000000  69.000000  74.000000  74.000000    74.000000   \n",
       "mean    6165.256757  21.297297   3.405797   2.993243  13.756757  3019.459459   \n",
       "std     2949.495885   5.785503   0.989932   0.845995   4.277404   777.193567   \n",
       "min     3291.000000  12.000000   1.000000   1.500000   5.000000  1760.000000   \n",
       "25%     4220.250000  18.000000   3.000000   2.500000  10.250000  2250.000000   \n",
       "50%     5006.500000  20.000000   3.000000   3.000000  14.000000  3190.000000   \n",
       "75%     6332.250000  24.750000   4.000000   3.500000  16.750000  3600.000000   \n",
       "max    15906.000000  41.000000   5.000000   5.000000  23.000000  4840.000000   \n",
       "\n",
       "           length       turn  displacement  gear_ratio  \n",
       "count   74.000000  74.000000     74.000000   74.000000  \n",
       "mean   187.932432  39.648649    197.297297    3.014865  \n",
       "std     22.266340   4.399354     91.837219    0.456287  \n",
       "min    142.000000  31.000000     79.000000    2.190000  \n",
       "25%    170.000000  36.000000    119.000000    2.730000  \n",
       "50%    192.500000  40.000000    196.000000    2.955000  \n",
       "75%    203.750000  43.000000    245.250000    3.352500  \n",
       "max    233.000000  51.000000    425.000000    3.890000  "
      ]
     },
     "execution_count": 15,
     "metadata": {},
     "output_type": "execute_result"
    }
   ],
   "source": [
    "auto.describe()"
   ]
  },
  {
   "cell_type": "markdown",
   "id": "bd9ffe1b",
   "metadata": {},
   "source": [
    "## Testy parametryczne i nieparametryczne dla srednich"
   ]
  },
  {
   "cell_type": "code",
   "execution_count": 16,
   "id": "c66e816f-f0f7-4c96-9894-062274e811d9",
   "metadata": {},
   "outputs": [],
   "source": [
    "# %stata help ttest\n",
    "# ?stats.ttest_ind"
   ]
  },
  {
   "cell_type": "markdown",
   "id": "d75b84dd",
   "metadata": {},
   "source": [
    "test t dla srednich przy zalozeniu rownej wariancji\n",
    "Warto zwrocic uwage ze roznica wynosi -312.2587 jendnak p-value dla wszytskich hipotez jest dosyc niskie gdyz odchylenie standardowe jest relatywnie wysokie."
   ]
  },
  {
   "cell_type": "code",
   "execution_count": 17,
   "id": "7d9e4520-2ff4-44c1-be22-1b32cc49b712",
   "metadata": {},
   "outputs": [
    {
     "data": {
      "text/plain": [
       "{'two-sided': Ttest_indResult(statistic=-0.4138898832983144, pvalue=0.6801850882546103),\n",
       " 'less': Ttest_indResult(statistic=-0.4138898832983144, pvalue=0.34009254412730516),\n",
       " 'greater': Ttest_indResult(statistic=-0.4138898832983144, pvalue=0.659907455872695)}"
      ]
     },
     "execution_count": 17,
     "metadata": {},
     "output_type": "execute_result"
    }
   ],
   "source": [
    "data = auto.groupby([\"foreign\"]).agg({\"price\": list})\n",
    "{a: stats.ttest_ind(data.loc[\"Domestic\", \"price\"], data.loc[\"Foreign\", \"price\"], alternative = a) for a in ['two-sided', 'less', 'greater']}"
   ]
  },
  {
   "cell_type": "code",
   "execution_count": null,
   "id": "fb375b6c",
   "metadata": {},
   "outputs": [],
   "source": [
    "%%stata\n",
    "ttest price, by(foreign)"
   ]
  },
  {
   "cell_type": "markdown",
   "id": "2cd1f903",
   "metadata": {},
   "source": [
    "test t dla srednich bez zalozenia o rownej wariancji"
   ]
  },
  {
   "cell_type": "code",
   "execution_count": null,
   "id": "8ecfcdfc-6a4b-4e94-880b-0ae8182adf17",
   "metadata": {},
   "outputs": [],
   "source": [
    "stats.ttest_ind(data.loc[\"Domestic\", \"price\"], data.loc[\"Foreign\", \"price\"], equal_var=False)"
   ]
  },
  {
   "cell_type": "code",
   "execution_count": null,
   "id": "add11c74",
   "metadata": {},
   "outputs": [],
   "source": [
    "%stata ttest price, by(foreign) unequal"
   ]
  },
  {
   "cell_type": "markdown",
   "id": "1e5bfcfa",
   "metadata": {},
   "source": [
    "Histogram zmiennej price"
   ]
  },
  {
   "cell_type": "code",
   "execution_count": null,
   "id": "fcb4b312-1316-476c-a6b8-c6189199d8aa",
   "metadata": {},
   "outputs": [],
   "source": [
    "# matplotlib has to be installed\n",
    "auto.price.hist(bins = 10)"
   ]
  },
  {
   "cell_type": "code",
   "execution_count": null,
   "id": "f78f4897",
   "metadata": {},
   "outputs": [],
   "source": [
    "%stata histogram price, bin(10)"
   ]
  },
  {
   "cell_type": "markdown",
   "id": "94892874",
   "metadata": {},
   "source": [
    "Argument \"by\" moze zostac uzyty na przestrzeni wielu funkcji"
   ]
  },
  {
   "cell_type": "code",
   "execution_count": null,
   "id": "d50c5ac5-65e3-4ddb-be56-a96db0674745",
   "metadata": {},
   "outputs": [],
   "source": [
    "auto.hist(column = \"price\", bins = 10, by = \"foreign\")"
   ]
  },
  {
   "cell_type": "code",
   "execution_count": null,
   "id": "9aadf07b",
   "metadata": {},
   "outputs": [],
   "source": [
    "%stata histogram price, bin(10) by(foreign)"
   ]
  },
  {
   "cell_type": "markdown",
   "id": "b700c516",
   "metadata": {},
   "source": [
    "/* Czy rozklad zmiennej jest zblizony do rozkladu normalnego, jesli nie, to jaki ma rozklad? */"
   ]
  },
  {
   "cell_type": "code",
   "execution_count": null,
   "id": "610037b3-ba81-48b4-9a84-a310672db31b",
   "metadata": {},
   "outputs": [],
   "source": [
    "auto[\"lprice\"] = np.log(auto.price)"
   ]
  },
  {
   "cell_type": "code",
   "execution_count": null,
   "id": "70a258f6",
   "metadata": {},
   "outputs": [],
   "source": [
    "%stata gen lprice = ln(price)"
   ]
  },
  {
   "cell_type": "markdown",
   "id": "d236426d",
   "metadata": {},
   "source": [
    "/* Czy po transformacji zmienna ma rozklad zblizony do normalnego? */"
   ]
  },
  {
   "cell_type": "code",
   "execution_count": null,
   "id": "10501ed7-d68b-4d84-92ad-cdac3f36e49b",
   "metadata": {},
   "outputs": [],
   "source": [
    "stats.shapiro(auto.lprice), stats.shapiro(auto.price)"
   ]
  },
  {
   "cell_type": "code",
   "execution_count": null,
   "id": "039fb337",
   "metadata": {},
   "outputs": [],
   "source": [
    "%stata swilk lprice price"
   ]
  },
  {
   "cell_type": "markdown",
   "id": "f430fbb3",
   "metadata": {},
   "source": [
    "Przeprowadzmy test dla przeksztalconej zmiennej"
   ]
  },
  {
   "cell_type": "code",
   "execution_count": null,
   "id": "c290b106",
   "metadata": {},
   "outputs": [],
   "source": [
    "%%stata\n",
    "ttest lprice, by(foreign)\n",
    "ttest lprice, by(foreign) unequal"
   ]
  },
  {
   "cell_type": "code",
   "execution_count": null,
   "id": "0a5f068d-82c0-4d83-bfde-81ce9e9c4b5d",
   "metadata": {},
   "outputs": [],
   "source": [
    "data = auto.groupby([\"foreign\"]).agg({\"lprice\": list})\n",
    "stats.ttest_ind(data.loc[\"Domestic\", \"lprice\"], data.loc[\"Foreign\", \"lprice\"]),\\\n",
    "stats.ttest_ind(data.loc[\"Domestic\", \"lprice\"], data.loc[\"Foreign\", \"lprice\"], equal_var=False)"
   ]
  },
  {
   "cell_type": "markdown",
   "id": "52b7403e",
   "metadata": {},
   "source": [
    "Test dla proporcji - Dla jednej proby"
   ]
  },
  {
   "cell_type": "markdown",
   "id": "a3a3b0b7",
   "metadata": {},
   "source": [
    "Prosze zwrocic uwage ze na dole wskazane sa Hipotezy alternatywne a nie zerowe."
   ]
  },
  {
   "cell_type": "code",
   "execution_count": null,
   "id": "76a8b6db",
   "metadata": {},
   "outputs": [],
   "source": [
    "# for level 1 - Foreign\n",
    "%stata prtest foreign==.4\n",
    "#  Stata liczy p-value z rozkładu asymptotycznego (normalnego)"
   ]
  },
  {
   "cell_type": "code",
   "execution_count": null,
   "id": "2b6c97e6-6471-40d8-bfcc-d20a34594140",
   "metadata": {},
   "outputs": [],
   "source": [
    "stats.binomtest(auto.foreign.value_counts()[\"Foreign\"], auto.shape[0], .4)"
   ]
  },
  {
   "cell_type": "code",
   "execution_count": null,
   "id": "e33c2f9a-aa11-4849-8890-b147ae09d512",
   "metadata": {},
   "outputs": [],
   "source": [
    "{a: proportions_ztest(auto.foreign.value_counts()[\"Foreign\"].sum(), auto.shape[0], .4, alternative = a) for a in [\"smaller\", \"two-sided\", \"larger\"]}"
   ]
  },
  {
   "cell_type": "markdown",
   "id": "23c17aa2",
   "metadata": {},
   "source": [
    "Sprawdzamy, czy udzial samochodow o cenie pow. 10.000$ jest taki sam jak zagranicznych"
   ]
  },
  {
   "cell_type": "code",
   "execution_count": null,
   "id": "d2732787",
   "metadata": {},
   "outputs": [],
   "source": [
    "%%stata\n",
    "/* Tworzymy zmienna 0-1 o wartosci 1 dla ceny pow. 10.000$ */\n",
    "gen price_10 = (price>10000)\n",
    "prtest price_10==foreign"
   ]
  },
  {
   "cell_type": "code",
   "execution_count": null,
   "id": "b79479e5-b50a-4e5a-a985-1a43cc21c9c0",
   "metadata": {},
   "outputs": [],
   "source": [
    "auto[\"price_10\"] = auto.price > 10000\n",
    "proportions_ztest([auto[\"price_10\"].sum(), auto.foreign.value_counts()[\"Foreign\"]], [auto.shape[0], auto.shape[0]])"
   ]
  },
  {
   "cell_type": "markdown",
   "id": "f589c045",
   "metadata": {},
   "source": [
    "Testy dla wariancji - Test F"
   ]
  },
  {
   "cell_type": "code",
   "execution_count": null,
   "id": "6bcde6b0",
   "metadata": {},
   "outputs": [],
   "source": [
    "%stata sdtest price, by(foreign)"
   ]
  },
  {
   "cell_type": "code",
   "execution_count": null,
   "id": "42013362-322e-4c1b-a27d-c0111b754cfc",
   "metadata": {},
   "outputs": [],
   "source": [
    "data = auto.groupby([\"foreign\"]).agg({\"price\": list})\n",
    "f_test(data.loc[\"Domestic\", \"price\"], data.loc[\"Foreign\", \"price\"])"
   ]
  },
  {
   "cell_type": "markdown",
   "id": "c2014c3f",
   "metadata": {},
   "source": [
    "Test Levene"
   ]
  },
  {
   "cell_type": "code",
   "execution_count": null,
   "id": "4c7ca777",
   "metadata": {},
   "outputs": [],
   "source": [
    "%%stata\n",
    "/* W0 - wartosc statystyki Levene */\n",
    "/* W50 - wartosc statystyki dla testu, w ktorym zamiast sredniej wykorzystano mediane */\n",
    "/* W10 - wartosc statystyki dla testu, w ktorym zamiast sredniej wykorzystano ucieta srednia  */\n",
    "robvar price, by(foreign)"
   ]
  },
  {
   "cell_type": "code",
   "execution_count": null,
   "id": "0431a117-a78e-401f-8b4a-2259474d0f13",
   "metadata": {},
   "outputs": [],
   "source": [
    "stats.f_oneway(data.loc[\"Domestic\", \"price\"], data.loc[\"Foreign\", \"price\"])"
   ]
  },
  {
   "cell_type": "markdown",
   "id": "1cd47169",
   "metadata": {},
   "source": [
    "Testy dla rozkladow - Test Kurskalla - Wallisa"
   ]
  },
  {
   "cell_type": "code",
   "execution_count": null,
   "id": "d34bc7f2",
   "metadata": {},
   "outputs": [],
   "source": [
    "%stata kwallis price, by(foreign)"
   ]
  },
  {
   "cell_type": "code",
   "execution_count": null,
   "id": "53561efd-0299-445e-baf4-9ebe6dfc128b",
   "metadata": {},
   "outputs": [],
   "source": [
    "stats.kruskal(data.loc[\"Domestic\", \"price\"], data.loc[\"Foreign\", \"price\"])"
   ]
  },
  {
   "cell_type": "markdown",
   "id": "b2c04553",
   "metadata": {},
   "source": [
    "Test Kolmogorowa - Smirnowa"
   ]
  },
  {
   "cell_type": "code",
   "execution_count": null,
   "id": "0c21acb8",
   "metadata": {},
   "outputs": [],
   "source": [
    "%stata ksmirnov price, by(foreign)"
   ]
  },
  {
   "cell_type": "code",
   "execution_count": null,
   "id": "a794801f-13a7-40be-b269-168bbe2d1746",
   "metadata": {},
   "outputs": [],
   "source": [
    "# - `two-sided`: The null hypothesis is that the two distributions are\n",
    "#   identical, F(x)=G(x) for all x; the alternative is that they are not\n",
    "#   identical.\n",
    "# - `less`: The null hypothesis is that F(x) >= G(x) for all x; the\n",
    "#   alternative is that F(x) < G(x) for at least one x.\n",
    "# - `greater`: The null hypothesis is that F(x) <= G(x) for all x; the\n",
    "#   alternative is that F(x) > G(x) for at least one x.\n",
    "{ a:stats.ks_2samp(data.loc[\"Domestic\", \"price\"], data.loc[\"Foreign\", \"price\"], alternative = a) for a in [\"less\", \"two-sided\", \"greater\"]}\n",
    "# roznice na pvalue"
   ]
  },
  {
   "cell_type": "markdown",
   "id": "a4cc7c7f",
   "metadata": {},
   "source": [
    "### Cwiczenie\n",
    "Na postawie danych z 4 kwartalu 2009 roku bedziemy porownywac:  \n",
    "1. place kobiet i mezczyzn w Polsce\n",
    "2. wyksztalcenie kobiet i mezczyzn w Polsce\n",
    "Prosze pobrac dane ze strony www.ekonometria.wne.uw.edu.pl i zaladowac do Staty  \n",
    "\n",
    "Korzystajac z odpowiednich testow, prosze sprawdzic:\n",
    "- Czy srednia placa kobiet jest rowna sredniej placy mezczyzn?\n",
    "- Czy zroznicowanie plac kobiet jest rowne zroznicowaniu plac mezczyzn?\n",
    "- Czy rozklad plac kobiet jest rowny rozkladowi plac mezczyzn?\n",
    "- Kto jest lepiej wyksztalcony: kobiety czy mezczyzni?\n",
    "- Czy zroznicowanie poziomu wyksztalcenia jest wieksze wsrod kobiet czy wsrod mezczyzn?\n",
    "- Czy rozklad wyksztalcenia kobiet jest rowny rozkladowi wyksztalcenia mezczyzn?\n"
   ]
  },
  {
   "cell_type": "code",
   "execution_count": null,
   "id": "12c40eb0",
   "metadata": {},
   "outputs": [],
   "source": [
    "%stata clear"
   ]
  },
  {
   "cell_type": "code",
   "execution_count": null,
   "id": "d3806f57",
   "metadata": {},
   "outputs": [],
   "source": [
    "# %stata use ...\n",
    "# pd.read"
   ]
  },
  {
   "cell_type": "markdown",
   "id": "52902976",
   "metadata": {},
   "source": [
    "Kilka ulatwien"
   ]
  },
  {
   "cell_type": "code",
   "execution_count": null,
   "id": "0d36b432",
   "metadata": {},
   "outputs": [],
   "source": [
    "# %%stata\n",
    "# /* Zmiana nazwy zmiennej */\n",
    "# rename pl plec\n",
    "# /* Utworzenie etykiety */\n",
    "# label define plec_lab 1 \"Mezczyzna\" 2 \"Kobieta\"\n",
    "# /* Nadanie etykiety wartosciom zmiennej */\n",
    "# label values plec plec_lab\n",
    "# /* utworzenie zmiennej placa, w bazie wartosc \"99999\" oznacza odmowe odpowiedzi */\n",
    "# gen placa = P37 if (P37!=99999)"
   ]
  },
  {
   "cell_type": "code",
   "execution_count": null,
   "id": "1afedcd9-eccd-4d90-aafc-9e7027b30009",
   "metadata": {},
   "outputs": [],
   "source": []
  },
  {
   "cell_type": "markdown",
   "id": "9cb47fd2",
   "metadata": {},
   "source": [
    "## Cwiczenie\n",
    "Bedziemy pracowac na danych z badania Diagnoza Spoleczna z 2011 roku  \n",
    "Prosze pobrac dane ze strony www.ekonometria.wne.uw.edu.pl i zaladowac zbior osob do Staty  \n",
    "Prosze zapoznac sie z zawartoscia zbioru i odpowiedziec na pytania, przeprowadzajac odpowiednie testy\n",
    "- Czy kobiety przecietnie wiecej waza od mezczyzn?\n",
    "- Czy kobiety sa przecietnie wyzsze od mezczyzn? \n",
    "- Czy kobiety sa lepiej wyksztalcone od mezczyzn? \n",
    "- Czy wsrod osob o wyzszym wyksztalceniu kobiety przecietnie wiecej waza od mezczyzn? \n",
    "- Czy wsrod osob o wyzszym wyksztalceniu kobiety sa przecietnie wyzsze od mezczyzn? \n",
    "- Czy wsrod osob o wyzszym wyksztalceniu kobiety wiecej zarabiaja od mezczyzn? \n"
   ]
  },
  {
   "cell_type": "code",
   "execution_count": null,
   "id": "ff5a84ae-f95d-4401-af01-19383299ffe5",
   "metadata": {},
   "outputs": [],
   "source": []
  }
 ],
 "metadata": {
  "kernelspec": {
   "display_name": "Python 3.10.6 ('.venv': venv)",
   "language": "python",
   "name": "python3"
  },
  "language_info": {
   "codemirror_mode": {
    "name": "ipython",
    "version": 3
   },
   "file_extension": ".py",
   "mimetype": "text/x-python",
   "name": "python",
   "nbconvert_exporter": "python",
   "pygments_lexer": "ipython3",
   "version": "3.10.6"
  },
  "vscode": {
   "interpreter": {
    "hash": "a8685faa0ed749449a0f1a8710c4e7cd8c1c7833bc8ac4d1844d25fbee35609f"
   }
  }
 },
 "nbformat": 4,
 "nbformat_minor": 5
}
