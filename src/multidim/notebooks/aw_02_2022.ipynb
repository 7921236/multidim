{
 "cells": [
  {
   "cell_type": "markdown",
   "id": "cd0ecd6e",
   "metadata": {},
   "source": [
    "# Analiza Wielowymiarowa - zajecia 2 - Statystyczne podstawy"
   ]
  },
  {
   "cell_type": "code",
   "execution_count": null,
   "id": "f4b6e2eb-1153-4782-a6bf-63824e44a1da",
   "metadata": {},
   "outputs": [],
   "source": [
    "import os\n",
    "os.getcwd() # oczekiwany .../AWXXXX/materialy/zajecia02\n",
    "# mozna uzyc os.chdir(\"path\") do zmiany"
   ]
  },
  {
   "cell_type": "code",
   "execution_count": null,
   "id": "da160e54-32fd-46ec-a7fe-6b7f34a4b33b",
   "metadata": {},
   "outputs": [],
   "source": [
    "import yaml\n",
    "spec =  yaml.safe_load(open('../../spec.yaml'))"
   ]
  },
  {
   "cell_type": "code",
   "execution_count": null,
   "id": "69c5451f-58f6-47d7-8ff0-08a3455f6b52",
   "metadata": {
    "tags": []
   },
   "outputs": [],
   "source": [
    "# STATA\n",
    "import stata_setup\n",
    "stata_setup.config(spec[\"stata_path\"], spec[\"stata_type\"])\n",
    "from pystata import stata"
   ]
  },
  {
   "cell_type": "code",
   "execution_count": null,
   "id": "40d5b3fb",
   "metadata": {},
   "outputs": [],
   "source": [
    "import pandas as pd\n",
    "import scipy\n",
    "import numpy as np\n",
    "import scipy.stats as stats\n",
    "import sklearn\n",
    "from statsmodels.stats.proportion import proportions_ztest"
   ]
  },
  {
   "cell_type": "markdown",
   "id": "68ec11c3",
   "metadata": {},
   "source": [
    "### Uzycie staty w jupyterach"
   ]
  },
  {
   "cell_type": "markdown",
   "id": "7cd5ed6a",
   "metadata": {},
   "source": [
    "%stata dla wywolan jednoliniowych\n",
    "%%stata dla wywolan wieloliniowych"
   ]
  },
  {
   "cell_type": "markdown",
   "id": "00cf2f38",
   "metadata": {},
   "source": [
    "oba wywolania posiadaja dodatkowe argumenty ktore omowimy podczas zajec\n",
    "%%stata -d dane -eret myeret"
   ]
  },
  {
   "cell_type": "markdown",
   "id": "bea6c0fc",
   "metadata": {},
   "source": [
    "Obiekt stata z cala gama metod takich jak stata.run"
   ]
  },
  {
   "cell_type": "markdown",
   "id": "d0e1de71",
   "metadata": {},
   "source": [
    "### Rozpoczynamy wywolywanie Stata poprzez jupyter"
   ]
  },
  {
   "cell_type": "markdown",
   "id": "403f2349",
   "metadata": {},
   "source": [
    "/// ustawienie liczby obserwacji w zbiorze"
   ]
  },
  {
   "cell_type": "code",
   "execution_count": null,
   "id": "bc3d1eea",
   "metadata": {},
   "outputs": [],
   "source": [
    "%stata set obs 10000"
   ]
  },
  {
   "cell_type": "markdown",
   "id": "914a1d70",
   "metadata": {},
   "source": [
    "/// ustawienie generatora liczb pseudolosowych"
   ]
  },
  {
   "cell_type": "code",
   "execution_count": null,
   "id": "1354b7de",
   "metadata": {},
   "outputs": [],
   "source": [
    "%stata set seed 1234"
   ]
  },
  {
   "cell_type": "markdown",
   "id": "1b47519b",
   "metadata": {},
   "source": [
    "/// wylosowanie liczb losowych z rozkladu jednostajnego, opcja double nakazuje wykonanie operacji o podwojonej precyzji numerycznej"
   ]
  },
  {
   "cell_type": "code",
   "execution_count": null,
   "id": "b860ea3a",
   "metadata": {},
   "outputs": [],
   "source": [
    "%stata gen double u=uniform()"
   ]
  },
  {
   "cell_type": "markdown",
   "id": "8fa8af0a",
   "metadata": {},
   "source": [
    "/// przeksztalcenie zmiennej u na zmienną o rozkladzie normalnym"
   ]
  },
  {
   "cell_type": "code",
   "execution_count": null,
   "id": "a63397d4",
   "metadata": {},
   "outputs": [],
   "source": [
    "%stata gen double x1 = invnorm(u)"
   ]
  },
  {
   "cell_type": "markdown",
   "id": "9d3f815a",
   "metadata": {},
   "source": [
    "/// histogram"
   ]
  },
  {
   "cell_type": "code",
   "execution_count": null,
   "id": "d9d00022",
   "metadata": {},
   "outputs": [],
   "source": [
    "%stata histogram x1"
   ]
  },
  {
   "cell_type": "markdown",
   "id": "c52287c3",
   "metadata": {},
   "source": [
    "/// szczegółowy opis statystyczny zmiennej"
   ]
  },
  {
   "cell_type": "code",
   "execution_count": null,
   "id": "ede9beb3",
   "metadata": {},
   "outputs": [],
   "source": [
    "%stata su x1, det"
   ]
  },
  {
   "cell_type": "markdown",
   "id": "94a12f13",
   "metadata": {},
   "source": [
    "/// przekształcenie zmiennej u na zmienną o rozkładzie t-Studenta o 5 stopniach swobowy"
   ]
  },
  {
   "cell_type": "code",
   "execution_count": null,
   "id": "5c5c8e3a",
   "metadata": {},
   "outputs": [],
   "source": [
    "%stata gen double x2 = invt(5,u) "
   ]
  },
  {
   "cell_type": "markdown",
   "id": "daf6e735",
   "metadata": {},
   "source": [
    "/// histogram"
   ]
  },
  {
   "cell_type": "code",
   "execution_count": null,
   "id": "2540ba30",
   "metadata": {},
   "outputs": [],
   "source": [
    "%stata hist x2, norm"
   ]
  },
  {
   "cell_type": "markdown",
   "id": "4b736dd4",
   "metadata": {},
   "source": [
    "/// szczegółowy opis statystyczny zmiennej"
   ]
  },
  {
   "cell_type": "code",
   "execution_count": null,
   "id": "d021dbf1",
   "metadata": {},
   "outputs": [],
   "source": [
    "%stata su x2, det"
   ]
  },
  {
   "cell_type": "markdown",
   "id": "41bc6eaa",
   "metadata": {},
   "source": [
    "/// przekształcenie zmiennej u na zmienną o rozkładzie chi-kwadrat o 2 stopniach swobody"
   ]
  },
  {
   "cell_type": "code",
   "execution_count": null,
   "id": "3aec08b2",
   "metadata": {},
   "outputs": [],
   "source": [
    "%stata gen double x3 = invchi2(2,u) "
   ]
  },
  {
   "cell_type": "markdown",
   "id": "3f6c73f8",
   "metadata": {},
   "source": [
    "/// histogram"
   ]
  },
  {
   "cell_type": "code",
   "execution_count": null,
   "id": "ae483d77",
   "metadata": {},
   "outputs": [],
   "source": [
    "%stata hist x3, norm"
   ]
  },
  {
   "cell_type": "markdown",
   "id": "befb1bb1",
   "metadata": {},
   "source": [
    "/// szczegółowy opis statystyczny zmiennej"
   ]
  },
  {
   "cell_type": "code",
   "execution_count": null,
   "id": "e5fca152",
   "metadata": {},
   "outputs": [],
   "source": [
    "%stata su x3, det"
   ]
  },
  {
   "cell_type": "markdown",
   "id": "677e360a",
   "metadata": {},
   "source": [
    "/// przekształcenie zmiennej u na zmienną o rozkładzie F o 2,10 stopniach swobody"
   ]
  },
  {
   "cell_type": "code",
   "execution_count": null,
   "id": "7ea496ab",
   "metadata": {},
   "outputs": [],
   "source": [
    "%stata gen double x4 = invF(2,10,u) "
   ]
  },
  {
   "cell_type": "markdown",
   "id": "9627f494",
   "metadata": {},
   "source": [
    "/// histogram"
   ]
  },
  {
   "cell_type": "code",
   "execution_count": null,
   "id": "f80eb874",
   "metadata": {},
   "outputs": [],
   "source": [
    "%stata hist x4, norm"
   ]
  },
  {
   "cell_type": "markdown",
   "id": "4f0bc32d",
   "metadata": {},
   "source": [
    "/// szczegółowy opis statystyczny zmiennej"
   ]
  },
  {
   "cell_type": "code",
   "execution_count": null,
   "id": "56c77880",
   "metadata": {},
   "outputs": [],
   "source": [
    "%stata su x4, det"
   ]
  },
  {
   "cell_type": "markdown",
   "id": "941fa7b5",
   "metadata": {},
   "source": [
    "## STATYSTYKI OPISOWE "
   ]
  },
  {
   "cell_type": "markdown",
   "id": "86cff86d",
   "metadata": {},
   "source": [
    "/// kwantyle"
   ]
  },
  {
   "cell_type": "code",
   "execution_count": null,
   "id": "7f7705e1",
   "metadata": {},
   "outputs": [],
   "source": [
    "%stata tabstat price, stat(q)"
   ]
  },
  {
   "cell_type": "markdown",
   "id": "0797bea0",
   "metadata": {},
   "source": [
    "/// odstep miedzykwantylowy"
   ]
  },
  {
   "cell_type": "code",
   "execution_count": null,
   "id": "8c6a7a46",
   "metadata": {},
   "outputs": [],
   "source": [
    "%stata tabstat price, stat(iqr)"
   ]
  },
  {
   "cell_type": "markdown",
   "id": "a057aea1",
   "metadata": {},
   "source": [
    "/// wykres pudelkowy\n",
    "\n",
    "/// dolna i górna krawędż pudełka to odpowiednio wartość pierwszego i trzeciego kwartyla, linia w poprzek pudełka prezentuje wartość medany, a \"wasy\" pokazują 95% przedział ufności"
   ]
  },
  {
   "cell_type": "code",
   "execution_count": null,
   "id": "4be3412d",
   "metadata": {},
   "outputs": [],
   "source": [
    "%stata graph box price"
   ]
  },
  {
   "cell_type": "markdown",
   "id": "04066ab4",
   "metadata": {},
   "source": [
    "/// histogram, opcja bin określa liczbę prostokątów, opcja freq przelicza gestosc na częstości"
   ]
  },
  {
   "cell_type": "code",
   "execution_count": null,
   "id": "0a828454",
   "metadata": {},
   "outputs": [],
   "source": [
    "%stata histogram price, bin(15)"
   ]
  },
  {
   "cell_type": "code",
   "execution_count": null,
   "id": "bff136f4",
   "metadata": {},
   "outputs": [],
   "source": [
    "%stata histogram price, bin(15) freq"
   ]
  },
  {
   "cell_type": "markdown",
   "id": "a33f187d",
   "metadata": {},
   "source": [
    "/// estymator jądrowy"
   ]
  },
  {
   "cell_type": "markdown",
   "id": "abcaec85",
   "metadata": {},
   "source": [
    "/// o wygładzeniu rozkładu decyduje opcja bwidth - szerokosc pasma"
   ]
  },
  {
   "cell_type": "code",
   "execution_count": null,
   "id": "b69751a4",
   "metadata": {},
   "outputs": [],
   "source": [
    "%stata kdensity price"
   ]
  },
  {
   "cell_type": "code",
   "execution_count": null,
   "id": "454eea05",
   "metadata": {},
   "outputs": [],
   "source": [
    "%stata kdensity price, bwidth(1200)"
   ]
  },
  {
   "cell_type": "code",
   "execution_count": null,
   "id": "65bfd2b9",
   "metadata": {},
   "outputs": [],
   "source": [
    "%stata kdensity price, bwidth(10000)"
   ]
  },
  {
   "cell_type": "markdown",
   "id": "3035c3c4",
   "metadata": {},
   "source": [
    "/// wyczyszczenie pamieci"
   ]
  },
  {
   "cell_type": "code",
   "execution_count": null,
   "id": "fed7e2fb",
   "metadata": {},
   "outputs": [],
   "source": [
    "%stata clear"
   ]
  },
  {
   "cell_type": "markdown",
   "id": "ef2ec9ba",
   "metadata": {},
   "source": [
    "/// zaladowanie zbioru danych auto dostarczonych z pakietem Stata"
   ]
  },
  {
   "cell_type": "code",
   "execution_count": null,
   "id": "a568836b",
   "metadata": {},
   "outputs": [],
   "source": [
    "%stata sysuse auto"
   ]
  },
  {
   "cell_type": "markdown",
   "id": "55827713",
   "metadata": {},
   "source": [
    "/// jednowymiarowa tabela czestosci"
   ]
  },
  {
   "cell_type": "code",
   "execution_count": null,
   "id": "346c61e0",
   "metadata": {},
   "outputs": [],
   "source": [
    "%stata tab foreign"
   ]
  },
  {
   "cell_type": "code",
   "execution_count": null,
   "id": "9fe57799",
   "metadata": {},
   "outputs": [],
   "source": []
  }
 ],
 "metadata": {
  "kernelspec": {
   "display_name": "Python 3",
   "language": "python",
   "name": "python3"
  },
  "language_info": {
   "codemirror_mode": {
    "name": "ipython",
    "version": 3
   },
   "file_extension": ".py",
   "mimetype": "text/x-python",
   "name": "python",
   "nbconvert_exporter": "python",
   "pygments_lexer": "ipython3",
   "version": "3.8.8"
  }
 },
 "nbformat": 4,
 "nbformat_minor": 5
}
